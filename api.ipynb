{
 "cells": [
  {
   "cell_type": "code",
   "execution_count": 1,
   "id": "8d7b75a9-13b6-4a10-9bc0-2a0e6fa03cf7",
   "metadata": {},
   "outputs": [],
   "source": [
    "import requests\n",
    "import os\n",
    "import json\n",
    "import time\n",
    "import pandas as pd\n",
    "from dotenv import load_dotenv"
   ]
  },
  {
   "cell_type": "code",
   "execution_count": 9,
   "id": "15882af1-b935-4f26-9435-6ee34564641b",
   "metadata": {},
   "outputs": [],
   "source": [
    "api_key = \"RGAPI-ed4b05bd-6a83-4ff8-963e-1e8cdf17bf30\"\n",
    "puuid = \"7Se-dSzwQX7_yaK8T9Y9dBcnk6NvGrzTNIuDz5BXT-fsSKYh3wz0LlhCDGdklSVf9OivOyL2GMe60g\""
   ]
  },
  {
   "cell_type": "code",
   "execution_count": null,
   "id": "cabbb97d-7aeb-4b10-8447-ea90b5b059c7",
   "metadata": {},
   "outputs": [],
   "source": [
    "def getMatches(puuid, count):\n",
    "    api_url = \"https://europe.api.riotgames.com/lol/match/v5/matches/by-puuid/\"\n",
    "    api_url = api_url + puuid + \"/ids?start=0&count=\" + str(count)\n",
    "    api_url = api_url + \"&api_key=\" + api_key\n",
    "\n",
    "    resp = requests.get(api_url)\n",
    "    match_ids = resp.json()\n",
    "    return match_ids\n",
    "\n",
    "def getMatchData(match_id):\n",
    "    api_url = \"https://europe.api.riotgames.com/lol/match/v5/matches/\" + match_id\n",
    "    api_url = api_url + \"?api_key=\" + api_key\n",
    "    resp = requests.get(api_url)\n",
    "    match_data = resp.json()\n",
    "    return match_data\n",
    "\n",
    "def getMatchTimeline(match_id):\n",
    "    api_url = \"https://europe.api.riotgames.com/lol/match/v5/matches/\" + match_id + \"/timeline\"\n",
    "    api_url = api_url + \"?api_key=\" + api_key\n",
    "    resp = requests.get(api_url)\n",
    "    match_timeline = resp.json()\n",
    "    return match_timeline\n",
    "\n",
    "def getParticipants(match_data):\n",
    "    participant_map = {}\n",
    "    for p_info in match_data['info']['participants']:\n",
    "        # Store champion name, and summoner name if available\n",
    "        name_display = p_info['championName']\n",
    "        if 'summonerName' in p_info and p_info['summonerName'] != \"BOT\": # Riot sometimes uses \"BOT\"\n",
    "             name_display = f\"{p_info['summonerName']} ({p_info['championName']})\"\n",
    "\n",
    "        participant_map[p_info['participantId']] = {\n",
    "            \"name\": name_display,\n",
    "            \"champion\": p_info['championName'],\n",
    "            \"teamId\": p_info['teamId'] # 100 for blue, 200 for red\n",
    "        }\n",
    "    return participant_map\n",
    "\n",
    "def format_timestamp_ms(milliseconds):\n",
    "    \"\"\"Converts milliseconds to a MM:SS string.\"\"\"\n",
    "    if milliseconds is None:\n",
    "        return \"N/A\"\n",
    "    total_seconds = milliseconds // 1000\n",
    "    minutes = total_seconds // 60\n",
    "    seconds = total_seconds % 60\n",
    "    return f\"{minutes:02d}:{seconds:02d}\""
   ]
  },
  {
   "cell_type": "code",
   "execution_count": 11,
   "id": "0ac596c8-a35c-47e3-85b7-658e71341c5e",
   "metadata": {},
   "outputs": [],
   "source": [
    "match_ids = getMatches(puuid, 100)\n",
    "match_data = getMatchData(match_ids[0])\n",
    "match_timeline = getMatchTimeline(match_ids[0])\n",
    "participants = getParticipants(match_data)"
   ]
  },
  {
   "cell_type": "code",
   "execution_count": null,
   "id": "2bb46627-1dab-4b10-b4cf-f3263d61dd56",
   "metadata": {},
   "outputs": [
    {
     "data": {
      "text/plain": [
       "{'status': {'message': 'Unknown apikey', 'status_code': 401}}"
      ]
     },
     "execution_count": 8,
     "metadata": {},
     "output_type": "execute_result"
    }
   ],
   "source": [
    "eventdictionary = {\n",
    "    \"event_type\" : \"CHAMPION_KILL\",\n",
    "    \"victim\" : \"Rengar\", \n",
    "    \"start\" : 0,\n",
    "    \"end\" : 300\n",
    "}\n",
    "\n",
    "def eventWinrateStatistic(eventdictionary):\n",
    "    wins = 0\n",
    "    losses = 0\n",
    "    # get match ids \n",
    "    match_ids = getMatches(puuid, 100)\n",
    "    # for earch match id\n",
    "    for match_id in match_ids:\n",
    "        # get match data\n",
    "        match_data = getMatchData(match_id)\n",
    "        # get participant map\n",
    "        participant_map = getParticipants(match_data)\n",
    "        # get timeline\n",
    "        match_timeline = getMatchTimeline(match_id)\n",
    "        # find event in timeline\n",
    "        for frame in match_timeline['info']['frames']:\n",
    "            for event in frame['events']:\n",
    "                if event['type'] == 'CHAMPION_KILL':\n",
    "                    timestamp_ms = event['timestamp']\n",
    "                    if eventdictionary['start']*1000 < timestamp_ms and timestamp_ms < eventdictionary['end']*1000:\n",
    "                        victim_id = event.get('victimId') \n",
    "                        if participant_map[victim_id]['champion'] == eventdictionary['victim']:\n",
    "                            \n",
    "                    \n",
    "                    #timestamp_ms = format_timestamp_ms(event['timestamp'])           \n",
    "\n",
    "    return"
   ]
  },
  {
   "cell_type": "code",
   "execution_count": null,
   "id": "0d77abfb",
   "metadata": {},
   "outputs": [],
   "source": []
  }
 ],
 "metadata": {
  "kernelspec": {
   "display_name": "graphing",
   "language": "python",
   "name": "python3"
  },
  "language_info": {
   "codemirror_mode": {
    "name": "ipython",
    "version": 3
   },
   "file_extension": ".py",
   "mimetype": "text/x-python",
   "name": "python",
   "nbconvert_exporter": "python",
   "pygments_lexer": "ipython3",
   "version": "3.13.2"
  }
 },
 "nbformat": 4,
 "nbformat_minor": 5
}
